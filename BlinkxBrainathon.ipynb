{
 "cells": [
  {
   "cell_type": "markdown",
   "id": "8797de9e-77e1-4976-8238-212fbe24e3a9",
   "metadata": {},
   "source": [
    "## Step-by-Step Approach\n",
    "\n",
    "### 1. Data Preparation\n",
    "\n",
    "The first step is to gather relevant data points from the users, including their names, dates of birth (DOB), past trading strategies, and engagement data. Additionally, market data such as stock prices and trends could be integrated to enhance the recommendations.\n",
    "\n",
    "### 2. Data Preprocessing\n",
    "\n",
    "Once the data is collected, it needs to be preprocessed before feeding it into the machine learning model. This involves converting categorical variables like trading strategies into numerical values using techniques like label encoding. Additionally, features like age can be derived from the date of birth. The data should also be split into training and testing sets to evaluate the model's performance."
   ]
  },
  {
   "cell_type": "code",
   "execution_count": 1,
   "id": "62067d23-6622-4934-9a05-276cbb41cafa",
   "metadata": {},
   "outputs": [],
   "source": [
    "# Importing necessary libraries\n",
    "import numpy as np\n",
    "import pandas as pd\n",
    "from sklearn.model_selection import train_test_split\n",
    "from sklearn.preprocessing import LabelEncoder, StandardScaler\n",
    "\n",
    "# Sample DataFrame creation\n",
    "data = {\n",
    "    'Name': ['Alice', 'Bob', 'Charlie', 'David', 'Eva'],\n",
    "    'DOB': ['1980-01-01', '1990-06-15', '1985-03-10', '1970-12-05', '2000-07-20'],\n",
    "    'Past_Trading_Strategies': ['Conservative', 'Aggressive', 'Moderate', 'Conservative', 'Aggressive'],\n",
    "    'Engagement_Score': [7.8, 9.2, 8.1, 6.3, 8.5],\n",
    "    'Trading_Frequency': [5, 12, 8, 4, 10]\n",
    "}\n",
    "\n",
    "df = pd.DataFrame(data)\n",
    "\n",
    "# Convert DOB to age\n",
    "df['DOB'] = pd.to_datetime(df['DOB'])\n",
    "df['Age'] = df['DOB'].apply(lambda x: (pd.Timestamp.now() - x).days // 365)\n",
    "\n",
    "# Encode categorical features\n",
    "le = LabelEncoder()\n",
    "df['Past_Trading_Strategies'] = le.fit_transform(df['Past_Trading_Strategies'])\n",
    "\n",
    "# Features and target\n",
    "X = df[['Age', 'Past_Trading_Strategies', 'Engagement_Score', 'Trading_Frequency']]\n",
    "y = df['Past_Trading_Strategies']\n",
    "\n",
    "# Split the data\n",
    "X_train, X_test, y_train, y_test = train_test_split(X, y, test_size=0.2, random_state=42)\n",
    "\n",
    "# Scale features\n",
    "scaler = StandardScaler()\n",
    "X_train_scaled = scaler.fit_transform(X_train)\n",
    "X_test_scaled = scaler.transform(X_test)"
   ]
  },
  {
   "cell_type": "markdown",
   "id": "4d35c49d-1afe-4a3c-a44c-d99bc1d8a33e",
   "metadata": {},
   "source": [
    "### 3. Model Building\n",
    "\n",
    "For this example, let's use a simple Neural Network model implemented with TensorFlow/Keras. This model will predict the user's preferred trading strategy based on their demographic and engagement data."
   ]
  },
  {
   "cell_type": "code",
   "execution_count": 2,
   "id": "01a115c0-3fe2-4725-8ea2-e3dfa9dff273",
   "metadata": {},
   "outputs": [
    {
     "name": "stderr",
     "output_type": "stream",
     "text": [
      "2024-06-08 10:43:24.299054: I external/local_tsl/tsl/cuda/cudart_stub.cc:31] Could not find cuda drivers on your machine, GPU will not be used.\n",
      "2024-06-08 10:43:24.356714: E external/local_xla/xla/stream_executor/cuda/cuda_dnn.cc:9261] Unable to register cuDNN factory: Attempting to register factory for plugin cuDNN when one has already been registered\n",
      "2024-06-08 10:43:24.356763: E external/local_xla/xla/stream_executor/cuda/cuda_fft.cc:607] Unable to register cuFFT factory: Attempting to register factory for plugin cuFFT when one has already been registered\n",
      "2024-06-08 10:43:24.358546: E external/local_xla/xla/stream_executor/cuda/cuda_blas.cc:1515] Unable to register cuBLAS factory: Attempting to register factory for plugin cuBLAS when one has already been registered\n",
      "2024-06-08 10:43:24.367555: I external/local_tsl/tsl/cuda/cudart_stub.cc:31] Could not find cuda drivers on your machine, GPU will not be used.\n",
      "2024-06-08 10:43:24.368103: I tensorflow/core/platform/cpu_feature_guard.cc:182] This TensorFlow binary is optimized to use available CPU instructions in performance-critical operations.\n",
      "To enable the following instructions: AVX2 FMA, in other operations, rebuild TensorFlow with the appropriate compiler flags.\n",
      "2024-06-08 10:43:25.637742: W tensorflow/compiler/tf2tensorrt/utils/py_utils.cc:38] TF-TRT Warning: Could not find TensorRT\n"
     ]
    },
    {
     "name": "stdout",
     "output_type": "stream",
     "text": [
      "Epoch 1/10\n"
     ]
    },
    {
     "name": "stderr",
     "output_type": "stream",
     "text": [
      "2024-06-08 10:43:26.666134: E external/local_xla/xla/stream_executor/cuda/cuda_driver.cc:274] failed call to cuInit: CUDA_ERROR_NO_DEVICE: no CUDA-capable device is detected\n"
     ]
    },
    {
     "name": "stdout",
     "output_type": "stream",
     "text": [
      "1/1 [==============================] - 1s 1s/step - loss: 0.5342 - accuracy: 0.5000 - val_loss: 0.3831 - val_accuracy: 1.0000\n",
      "Epoch 2/10\n",
      "1/1 [==============================] - 0s 42ms/step - loss: 0.5188 - accuracy: 0.5000 - val_loss: 0.3792 - val_accuracy: 1.0000\n",
      "Epoch 3/10\n",
      "1/1 [==============================] - 0s 49ms/step - loss: 0.5034 - accuracy: 0.5000 - val_loss: 0.3753 - val_accuracy: 1.0000\n",
      "Epoch 4/10\n",
      "1/1 [==============================] - 0s 51ms/step - loss: 0.4882 - accuracy: 0.5000 - val_loss: 0.3714 - val_accuracy: 1.0000\n",
      "Epoch 5/10\n",
      "1/1 [==============================] - 0s 48ms/step - loss: 0.4731 - accuracy: 0.7500 - val_loss: 0.3675 - val_accuracy: 1.0000\n",
      "Epoch 6/10\n",
      "1/1 [==============================] - 0s 46ms/step - loss: 0.4581 - accuracy: 0.7500 - val_loss: 0.3636 - val_accuracy: 1.0000\n",
      "Epoch 7/10\n",
      "1/1 [==============================] - 0s 42ms/step - loss: 0.4434 - accuracy: 0.7500 - val_loss: 0.3598 - val_accuracy: 1.0000\n",
      "Epoch 8/10\n",
      "1/1 [==============================] - 0s 46ms/step - loss: 0.4289 - accuracy: 0.7500 - val_loss: 0.3562 - val_accuracy: 1.0000\n",
      "Epoch 9/10\n",
      "1/1 [==============================] - 0s 38ms/step - loss: 0.4154 - accuracy: 0.7500 - val_loss: 0.3526 - val_accuracy: 1.0000\n",
      "Epoch 10/10\n",
      "1/1 [==============================] - 0s 50ms/step - loss: 0.4033 - accuracy: 0.7500 - val_loss: 0.3490 - val_accuracy: 1.0000\n"
     ]
    },
    {
     "data": {
      "text/plain": [
       "<keras.src.callbacks.History at 0x7ef154561690>"
      ]
     },
     "execution_count": 2,
     "metadata": {},
     "output_type": "execute_result"
    }
   ],
   "source": [
    "import tensorflow as tf\n",
    "from tensorflow.keras.models import Sequential\n",
    "from tensorflow.keras.layers import Dense\n",
    "\n",
    "# Define the model\n",
    "model = Sequential([\n",
    "    Dense(32, input_shape=(X_train_scaled.shape[1],), activation='relu'),\n",
    "    Dense(16, activation='relu'),\n",
    "    Dense(1, activation='sigmoid')\n",
    "])\n",
    "\n",
    "# Compile the model\n",
    "model.compile(optimizer='adam', loss='binary_crossentropy', metrics=['accuracy'])\n",
    "\n",
    "# Train the model\n",
    "model.fit(X_train_scaled, y_train, epochs=10, validation_data=(X_test_scaled, y_test))"
   ]
  },
  {
   "cell_type": "markdown",
   "id": "ba16f8e7-310e-4396-a3ae-e473e92451b8",
   "metadata": {},
   "source": [
    "### Generate Push Notification\n",
    "\n",
    "Now that we have a trained model, we can use it to generate personalized push notifications for users. We'll define a function that takes user data as input, preprocesses it, and then predicts the most suitable notification content based on their features."
   ]
  },
  {
   "cell_type": "code",
   "execution_count": 4,
   "id": "41c7f762-d0d9-46f1-ba86-db4e766f4a83",
   "metadata": {},
   "outputs": [
    {
     "name": "stdout",
     "output_type": "stream",
     "text": [
      "1/1 [==============================] - 0s 31ms/step\n",
      "🚀 Ready to kick your portfolio into high gear? Explore our latest aggressive trading strategies and turbocharge your investments!\n"
     ]
    },
    {
     "name": "stderr",
     "output_type": "stream",
     "text": [
      "/home/apooyadv/.local/lib/python3.10/site-packages/sklearn/base.py:465: UserWarning: X does not have valid feature names, but StandardScaler was fitted with feature names\n",
      "  warnings.warn(\n"
     ]
    }
   ],
   "source": [
    "# Example function to generate notifications\n",
    "def generate_notifications(user_data):\n",
    "    # Preprocess new user data similar to training data\n",
    "    user_data['Age'] = pd.Timestamp.now().year - pd.to_datetime(user_data['DOB']).year\n",
    "    user_data['Past_Trading_Strategies'] = le.transform([user_data['Past_Trading_Strategies']])[0]\n",
    "    \n",
    "    # Select features\n",
    "    features = np.array([[\n",
    "        user_data['Age'],\n",
    "        user_data['Past_Trading_Strategies'],\n",
    "        user_data['Engagement_Score'],\n",
    "        user_data['Trading_Frequency']\n",
    "    ]])\n",
    "    \n",
    "    # Scale features\n",
    "    features_scaled = scaler.transform(features)\n",
    "    \n",
    "    # Predict\n",
    "    strategy_pred = model.predict(features_scaled)\n",
    "    \n",
    "    # Generate notification\n",
    "    if strategy_pred > 0.5:\n",
    "        return \"🚀 Ready to kick your portfolio into high gear? Explore our latest aggressive trading strategies and turbocharge your investments!\"\n",
    "    else:\n",
    "        return \"🛡️ Seeking stability and steady growth? Discover our curated conservative trading tips and build a resilient portfolio today!\"\n",
    "\n",
    "# Example user data\n",
    "new_user = {\n",
    "    'Name': 'Frank',\n",
    "    'DOB': '1985-08-15',\n",
    "    'Past_Trading_Strategies': 'Moderate',\n",
    "    'Engagement_Score': 7.5,\n",
    "    'Trading_Frequency': 6\n",
    "}\n",
    "\n",
    "notification = generate_notifications(new_user)\n",
    "print(notification)"
   ]
  }
 ],
 "metadata": {
  "kernelspec": {
   "display_name": "Python 3 (ipykernel)",
   "language": "python",
   "name": "python3"
  },
  "language_info": {
   "codemirror_mode": {
    "name": "ipython",
    "version": 3
   },
   "file_extension": ".py",
   "mimetype": "text/x-python",
   "name": "python",
   "nbconvert_exporter": "python",
   "pygments_lexer": "ipython3",
   "version": "3.10.12"
  }
 },
 "nbformat": 4,
 "nbformat_minor": 5
}
